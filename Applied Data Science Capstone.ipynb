{
 "cells": [
  {
   "cell_type": "markdown",
   "metadata": {},
   "source": [
    "# Applied Data Science Capstone\n",
    "\n",
    "\n",
    "### Introduction/Business Problem\n",
    "\n"
   ]
  },
  {
   "cell_type": "markdown",
   "metadata": {},
   "source": [
    "#### As a student living in Williamsburg, VA, I feel that restaurants are not enough, especially Chinese restaurants. People in Williamsburg deserve to try Chinese famous type of food - Hot Pot. Therefore, this capstone is going to find the best location to open a restaurants according to the location's reviews, popularity and other factors. The data will be scraped from Foursquare and the problem will be solved using Foursquare API."
   ]
  },
  {
   "cell_type": "markdown",
   "metadata": {},
   "source": [
    "### Data "
   ]
  },
  {
   "cell_type": "markdown",
   "metadata": {},
   "source": [
    "#### In this step, I will request data from foursquare and use the data to build a datafame containing information that tells me detail about restaurants in the location. By doing this, I can further find a location that's the best for opening a new restaurant. The coordinate of center is chosen as Governor's Palace since this is one of the most famous location in Williamsburg, everyone will go there and everyone lives near the place. In this part, we mainly want to know what the data look like, instead of using data to do the analysis"
   ]
  },
  {
   "cell_type": "code",
   "execution_count": 1,
   "metadata": {},
   "outputs": [],
   "source": [
    "import requests # library to handle requests\n",
    "import pandas as pd # library for data analsysis\n",
    "import numpy as np # library to handle data in a vectorized manner\n",
    "import random # library for random number generation\n",
    "#!conda install -c conda-forge geopy --yes \n",
    "from geopy.geocoders import Nominatim # module to convert an address into latitude and longitude values\n",
    "pd.set_option('display.max_columns', None)\n",
    "pd.set_option('display.max_rows', None)\n",
    "import json\n",
    "from geopy.geocoders import Nominatim\n",
    "from pandas.io.json import json_normalize\n",
    "import matplotlib.cm as cm\n",
    "import matplotlib.colors as colors\n",
    "from sklearn.cluster import KMeans\n",
    "#!conda install -c conda-forge folium=0.5.0 --yes\n",
    "import folium\n",
    "#!pip install shapely\n",
    "#import shapely.geometry\n",
    "#!pip install pyproj\n",
    "import pyproj\n",
    "import math\n",
    "import pickle"
   ]
  },
  {
   "cell_type": "markdown",
   "metadata": {},
   "source": [
    "#### Get client id and client secret from foursquare developer"
   ]
  },
  {
   "cell_type": "code",
   "execution_count": 2,
   "metadata": {},
   "outputs": [
    {
     "name": "stdout",
     "output_type": "stream",
     "text": [
      "Your credentails:\n",
      "CLIENT_ID: IIM3ZPX4O0MTECO31PIVRFK0UQMYYAJNVRWABOAJLCYEFRF0\n",
      "CLIENT_SECRET:KVV1LN5ITDZ4YDV3FGXM2WLSOL5OVSPMR3GQPYFNIOFACQBO\n"
     ]
    }
   ],
   "source": [
    "CLIENT_ID = 'IIM3ZPX4O0MTECO31PIVRFK0UQMYYAJNVRWABOAJLCYEFRF0' # your Foursquare ID\n",
    "CLIENT_SECRET = 'KVV1LN5ITDZ4YDV3FGXM2WLSOL5OVSPMR3GQPYFNIOFACQBO' # your Foursquare Secret\n",
    "VERSION = '20200401'\n",
    "LIMIT = 100\n",
    "print('Your credentails:')\n",
    "print('CLIENT_ID: ' + CLIENT_ID)\n",
    "print('CLIENT_SECRET:' + CLIENT_SECRET)"
   ]
  },
  {
   "cell_type": "code",
   "execution_count": 3,
   "metadata": {},
   "outputs": [
    {
     "name": "stdout",
     "output_type": "stream",
     "text": [
      "Coordinate of Governor's Palace,Williamsburg, VA: [37.2742497, -76.7021709]\n"
     ]
    }
   ],
   "source": [
    "address = \"Governor's Palace,Williamsburg, VA\"\n",
    "'''\n",
    "geolocator = Nominatim(user_agent=\"foursquare_agent\")\n",
    "location = geolocator.geocode(address)\n",
    "latitude = location.latitude\n",
    "longitude = location.longitude\n",
    "#print(latitude, longitude)\n",
    "'''\n",
    "\n",
    "def get_coordinates(address, verbose=False):\n",
    "    geolocator = Nominatim(user_agent=\"foursquare_agent\")\n",
    "    location = geolocator.geocode(address)\n",
    "    lat = location.latitude\n",
    "    lon = location.longitude\n",
    "    return [lat,lon]\n",
    "\n",
    "williamsburg_center = get_coordinates(address)\n",
    "print('Coordinate of {}: {}'.format(address, williamsburg_center))\n",
    "latitude = williamsburg_center[0]\n",
    "longitude = williamsburg_center[1]"
   ]
  },
  {
   "cell_type": "code",
   "execution_count": 8,
   "metadata": {},
   "outputs": [
    {
     "name": "stdout",
     "output_type": "stream",
     "text": [
      "Restaurant .... OK!\n"
     ]
    }
   ],
   "source": [
    "search_query = 'Restaurant'\n",
    "radius = 5000\n",
    "print(search_query + ' .... OK!')"
   ]
  },
  {
   "cell_type": "code",
   "execution_count": 9,
   "metadata": {},
   "outputs": [],
   "source": [
    "# Define the corresponding URL\n",
    "#url = 'https://api.foursquare.com/v2/venues/{}?client_id={}&client_secret={}&v={}'.format(venue_id, CLIENT_ID, CLIENT_SECRET, VERSION)\n",
    "url = 'https://api.foursquare.com/v2/venues/search?client_id={}&client_secret={}&ll={},{}&v={}&query={}&radius={}&limit={}'.format(CLIENT_ID, CLIENT_SECRET, latitude, longitude, VERSION, search_query, radius, LIMIT)"
   ]
  },
  {
   "cell_type": "markdown",
   "metadata": {},
   "source": [
    "#### It's not necessary to print results unless you want to see what's actually in it, because it'll be used many time in analysis part"
   ]
  },
  {
   "cell_type": "code",
   "execution_count": 10,
   "metadata": {},
   "outputs": [
    {
     "name": "stdout",
     "output_type": "stream",
     "text": [
      "{'meta': {'code': 200, 'requestId': '5e8a8237da9e14001b1949f8'}, 'response': {'venues': [{'id': '4b5b270cf964a520e3e628e3', 'name': 'The Trellis Restaurant', 'location': {'address': '403 W Duke of Gloucester St', 'crossStreet': 'N Henry St', 'lat': 37.27108130431542, 'lng': -76.70615589922397, 'labeledLatLngs': [{'label': 'display', 'lat': 37.27108130431542, 'lng': -76.70615589922397}], 'distance': 499, 'postalCode': '23185', 'cc': 'US', 'city': 'Williamsburg', 'state': 'VA', 'country': 'United States', 'formattedAddress': ['403 W Duke of Gloucester St (N Henry St)', 'Williamsburg, VA 23185', 'United States']}, 'categories': [{'id': '4bf58dd8d48988d14e941735', 'name': 'American Restaurant', 'pluralName': 'American Restaurants', 'shortName': 'American', 'icon': {'prefix': 'https://ss3.4sqi.net/img/categories_v2/food/default_', 'suffix': '.png'}, 'primary': True}], 'referralId': 'v-1586135623', 'hasPerk': False}, {'id': '4bb0e18ff964a5203c663ce3', 'name': \"Berret's Seafood Restaurant and Taphouse Grill\", 'location': {'address': '199 S Boundary St', 'crossStreet': \"Merchant's Square\", 'lat': 37.27002662899438, 'lng': -76.70712453828511, 'labeledLatLngs': [{'label': 'display', 'lat': 37.27002662899438, 'lng': -76.70712453828511}], 'distance': 643, 'postalCode': '23185', 'cc': 'US', 'city': 'Williamsburg', 'state': 'VA', 'country': 'United States', 'formattedAddress': [\"199 S Boundary St (Merchant's Square)\", 'Williamsburg, VA 23185', 'United States']}, 'categories': [{'id': '4bf58dd8d48988d1ce941735', 'name': 'Seafood Restaurant', 'pluralName': 'Seafood Restaurants', 'shortName': 'Seafood', 'icon': {'prefix': 'https://ss3.4sqi.net/img/categories_v2/food/seafood_', 'suffix': '.png'}, 'primary': True}], 'delivery': {'id': '2044294', 'url': 'https://www.grubhub.com/restaurant/berrets-seafood-restaurant-199-s-boundary-st-williamsburg/2044294?affiliate=1131&utm_source=foursquare-affiliate-network&utm_medium=affiliate&utm_campaign=1131&utm_content=2044294', 'provider': {'name': 'grubhub', 'icon': {'prefix': 'https://fastly.4sqi.net/img/general/cap/', 'sizes': [40, 50], 'name': '/delivery_provider_grubhub_20180129.png'}}}, 'venuePage': {'id': '36256198'}, 'referralId': 'v-1586135623', 'hasPerk': False}, {'id': '4c73ec6aec8d952110def1c2', 'name': 'Peking Restaurant', 'location': {'address': '120 Waller Mill Rd Ste J', 'crossStreet': 'Bypass Rd', 'lat': 37.28859584124185, 'lng': -76.71795553333305, 'labeledLatLngs': [{'label': 'display', 'lat': 37.28859584124185, 'lng': -76.71795553333305}], 'distance': 2122, 'postalCode': '23185', 'cc': 'US', 'city': 'Williamsburg', 'state': 'VA', 'country': 'United States', 'formattedAddress': ['120 Waller Mill Rd Ste J (Bypass Rd)', 'Williamsburg, VA 23185', 'United States']}, 'categories': [{'id': '4bf58dd8d48988d111941735', 'name': 'Japanese Restaurant', 'pluralName': 'Japanese Restaurants', 'shortName': 'Japanese', 'icon': {'prefix': 'https://ss3.4sqi.net/img/categories_v2/food/japanese_', 'suffix': '.png'}, 'primary': True}], 'venuePage': {'id': '445345761'}, 'referralId': 'v-1586135623', 'hasPerk': False}, {'id': '4daa52174df01c19b1886570', 'name': 'The Veranda Restaurant (Fort Magruder Hotel)', 'location': {'lat': 37.26362902781627, 'lng': -76.67995096980991, 'labeledLatLngs': [{'label': 'display', 'lat': 37.26362902781627, 'lng': -76.67995096980991}], 'distance': 2296, 'cc': 'US', 'city': 'Williamsburg', 'state': 'VA', 'country': 'United States', 'formattedAddress': ['Williamsburg, VA', 'United States']}, 'categories': [{'id': '4bf58dd8d48988d14e941735', 'name': 'American Restaurant', 'pluralName': 'American Restaurants', 'shortName': 'American', 'icon': {'prefix': 'https://ss3.4sqi.net/img/categories_v2/food/default_', 'suffix': '.png'}, 'primary': True}], 'referralId': 'v-1586135623', 'hasPerk': False}, {'id': '4c3243067cc0c9b63005f09a', 'name': 'The Jefferson Restaurant', 'location': {'address': '1453 Richmond Rd', 'lat': 37.28997, 'lng': -76.72219, 'labeledLatLngs': [{'label': 'display', 'lat': 37.28997, 'lng': -76.72219}], 'distance': 2491, 'postalCode': '23185', 'cc': 'US', 'city': 'Williamsburg', 'state': 'VA', 'country': 'United States', 'formattedAddress': ['1453 Richmond Rd', 'Williamsburg, VA 23185', 'United States']}, 'categories': [{'id': '4bf58dd8d48988d14e941735', 'name': 'American Restaurant', 'pluralName': 'American Restaurants', 'shortName': 'American', 'icon': {'prefix': 'https://ss3.4sqi.net/img/categories_v2/food/default_', 'suffix': '.png'}, 'primary': True}], 'referralId': 'v-1586135623', 'hasPerk': False}, {'id': '4b63907cf964a520b6832ae3', 'name': \"Captain George's Seafood Restaurant\", 'location': {'address': '5363 Richmond Rd', 'lat': 37.3108926, 'lng': -76.7323691, 'labeledLatLngs': [{'label': 'display', 'lat': 37.3108926, 'lng': -76.7323691}], 'distance': 4877, 'postalCode': '23188', 'cc': 'US', 'city': 'Williamsburg', 'state': 'VA', 'country': 'United States', 'formattedAddress': ['5363 Richmond Rd', 'Williamsburg, VA 23188', 'United States']}, 'categories': [{'id': '4bf58dd8d48988d1ce941735', 'name': 'Seafood Restaurant', 'pluralName': 'Seafood Restaurants', 'shortName': 'Seafood', 'icon': {'prefix': 'https://ss3.4sqi.net/img/categories_v2/food/seafood_', 'suffix': '.png'}, 'primary': True}], 'referralId': 'v-1586135623', 'hasPerk': False}, {'id': '4c28c7f097d00f477c5a40ea', 'name': 'South of the Border Mexican Restaurant', 'location': {'address': '322 Second St', 'lat': 37.27398335639371, 'lng': -76.68364124252824, 'labeledLatLngs': [{'label': 'display', 'lat': 37.27398335639371, 'lng': -76.68364124252824}], 'distance': 1641, 'postalCode': '23185', 'cc': 'US', 'city': 'Williamsburg', 'state': 'VA', 'country': 'United States', 'formattedAddress': ['322 Second St', 'Williamsburg, VA 23185', 'United States']}, 'categories': [{'id': '4bf58dd8d48988d1c1941735', 'name': 'Mexican Restaurant', 'pluralName': 'Mexican Restaurants', 'shortName': 'Mexican', 'icon': {'prefix': 'https://ss3.4sqi.net/img/categories_v2/food/mexican_', 'suffix': '.png'}, 'primary': True}], 'delivery': {'id': '2057700', 'url': 'https://www.grubhub.com/restaurant/south-of-the-border-mexican-restaurant-322-2nd-st-williamsburg/2057700?affiliate=1131&utm_source=foursquare-affiliate-network&utm_medium=affiliate&utm_campaign=1131&utm_content=2057700', 'provider': {'name': 'grubhub', 'icon': {'prefix': 'https://fastly.4sqi.net/img/general/cap/', 'sizes': [40, 50], 'name': '/delivery_provider_grubhub_20180129.png'}}}, 'referralId': 'v-1586135623', 'hasPerk': False}, {'id': '4c23714e9085d13a6bdc87cc', 'name': \"Sal's By Victor\", 'location': {'address': '1242 Richmond Rd', 'lat': 37.28069749297099, 'lng': -76.72029374831419, 'labeledLatLngs': [{'label': 'display', 'lat': 37.28069749297099, 'lng': -76.72029374831419}], 'distance': 1758, 'postalCode': '23185', 'cc': 'US', 'city': 'Williamsburg', 'state': 'VA', 'country': 'United States', 'formattedAddress': ['1242 Richmond Rd', 'Williamsburg, VA 23185', 'United States']}, 'categories': [{'id': '4bf58dd8d48988d110941735', 'name': 'Italian Restaurant', 'pluralName': 'Italian Restaurants', 'shortName': 'Italian', 'icon': {'prefix': 'https://ss3.4sqi.net/img/categories_v2/food/italian_', 'suffix': '.png'}, 'primary': True}], 'referralId': 'v-1586135623', 'hasPerk': False}, {'id': '4b22a52ef964a520f94a24e3', 'name': 'Second Street, An American Bistro', 'location': {'address': '140 Second St', 'crossStreet': 'Page St', 'lat': 37.27457674108086, 'lng': -76.68710623649967, 'labeledLatLngs': [{'label': 'display', 'lat': 37.27457674108086, 'lng': -76.68710623649967}], 'distance': 1334, 'postalCode': '23185', 'cc': 'US', 'city': 'Williamsburg', 'state': 'VA', 'country': 'United States', 'formattedAddress': ['140 Second St (Page St)', 'Williamsburg, VA 23185', 'United States']}, 'categories': [{'id': '4bf58dd8d48988d14e941735', 'name': 'American Restaurant', 'pluralName': 'American Restaurants', 'shortName': 'American', 'icon': {'prefix': 'https://ss3.4sqi.net/img/categories_v2/food/default_', 'suffix': '.png'}, 'primary': True}], 'referralId': 'v-1586135623', 'hasPerk': False}, {'id': '4b36623af964a5202c3425e3', 'name': \"Paul's Deli\", 'location': {'address': '761 Scotland St', 'crossStreet': 'Richmond Rd', 'lat': 37.27397861072187, 'lng': -76.71254827790803, 'labeledLatLngs': [{'label': 'display', 'lat': 37.27397861072187, 'lng': -76.71254827790803}], 'distance': 919, 'postalCode': '23185', 'cc': 'US', 'city': 'Williamsburg', 'state': 'VA', 'country': 'United States', 'formattedAddress': ['761 Scotland St (Richmond Rd)', 'Williamsburg, VA 23185', 'United States']}, 'categories': [{'id': '4bf58dd8d48988d1c4941735', 'name': 'Restaurant', 'pluralName': 'Restaurants', 'shortName': 'Restaurant', 'icon': {'prefix': 'https://ss3.4sqi.net/img/categories_v2/food/default_', 'suffix': '.png'}, 'primary': True}], 'venuePage': {'id': '81838047'}, 'referralId': 'v-1586135623', 'hasPerk': False}, {'id': '4baf8556f964a520c5063ce3', 'name': 'College Delly', 'location': {'address': '336 Richmond Rd', 'crossStreet': 'at Scotland St', 'lat': 37.2737019868284, 'lng': -76.71241067056607, 'labeledLatLngs': [{'label': 'display', 'lat': 37.2737019868284, 'lng': -76.71241067056607}], 'distance': 909, 'postalCode': '23185', 'cc': 'US', 'city': 'Williamsburg', 'state': 'VA', 'country': 'United States', 'formattedAddress': ['336 Richmond Rd (at Scotland St)', 'Williamsburg, VA 23185', 'United States']}, 'categories': [{'id': '4bf58dd8d48988d14e941735', 'name': 'American Restaurant', 'pluralName': 'American Restaurants', 'shortName': 'American', 'icon': {'prefix': 'https://ss3.4sqi.net/img/categories_v2/food/default_', 'suffix': '.png'}, 'primary': True}], 'referralId': 'v-1586135623', 'hasPerk': False}, {'id': '4b806dd2f964a520817130e3', 'name': 'Food For Thought', 'location': {'address': '1647 Richmond Rd', 'lat': 37.29440833788438, 'lng': -76.72467944930797, 'labeledLatLngs': [{'label': 'display', 'lat': 37.29440833788438, 'lng': -76.72467944930797}], 'distance': 3001, 'postalCode': '23185', 'cc': 'US', 'city': 'Williamsburg', 'state': 'VA', 'country': 'United States', 'formattedAddress': ['1647 Richmond Rd', 'Williamsburg, VA 23185', 'United States']}, 'categories': [{'id': '4bf58dd8d48988d14e941735', 'name': 'American Restaurant', 'pluralName': 'American Restaurants', 'shortName': 'American', 'icon': {'prefix': 'https://ss3.4sqi.net/img/categories_v2/food/default_', 'suffix': '.png'}, 'primary': True}], 'venuePage': {'id': '202749388'}, 'referralId': 'v-1586135623', 'hasPerk': False}, {'id': '509ac54de4b05481aa3aa06f', 'name': \"Antonio's Italian Restaurant\", 'location': {'lat': 37.29547966834879, 'lng': -76.68648055632389, 'labeledLatLngs': [{'label': 'display', 'lat': 37.29547966834879, 'lng': -76.68648055632389}], 'distance': 2741, 'postalCode': '23185', 'cc': 'US', 'city': 'Williamsburg', 'state': 'VA', 'country': 'United States', 'formattedAddress': ['Williamsburg, VA 23185', 'United States']}, 'categories': [{'id': '4bf58dd8d48988d110941735', 'name': 'Italian Restaurant', 'pluralName': 'Italian Restaurants', 'shortName': 'Italian', 'icon': {'prefix': 'https://ss3.4sqi.net/img/categories_v2/food/italian_', 'suffix': '.png'}, 'primary': True}], 'referralId': 'v-1586135623', 'hasPerk': False}, {'id': '4b4e4cb2f964a52093e826e3', 'name': 'Plaza Azteca', 'location': {'address': '1430 Richmond Rd', 'crossStreet': 'High St', 'lat': 37.28848689959015, 'lng': -76.7234211049889, 'labeledLatLngs': [{'label': 'display', 'lat': 37.28848689959015, 'lng': -76.7234211049889}], 'distance': 2460, 'postalCode': '23185', 'cc': 'US', 'city': 'Williamsburg', 'state': 'VA', 'country': 'United States', 'formattedAddress': ['1430 Richmond Rd (High St)', 'Williamsburg, VA 23185', 'United States']}, 'categories': [{'id': '4bf58dd8d48988d1c1941735', 'name': 'Mexican Restaurant', 'pluralName': 'Mexican Restaurants', 'shortName': 'Mexican', 'icon': {'prefix': 'https://ss3.4sqi.net/img/categories_v2/food/mexican_', 'suffix': '.png'}, 'primary': True}], 'referralId': 'v-1586135623', 'hasPerk': False}, {'id': '5b395dbdd48ec1002cd4fe13', 'name': 'Anatolia Restaurant', 'location': {'lat': 37.279396, 'lng': -76.742745, 'labeledLatLngs': [{'label': 'display', 'lat': 37.279396, 'lng': -76.742745}], 'distance': 3639, 'postalCode': '23188', 'cc': 'US', 'city': 'Williamsburg', 'state': 'VA', 'country': 'United States', 'formattedAddress': ['Williamsburg, VA 23188', 'United States']}, 'categories': [{'id': '4f04af1f2fb6e1c99f3db0bb', 'name': 'Turkish Restaurant', 'pluralName': 'Turkish Restaurants', 'shortName': 'Turkish', 'icon': {'prefix': 'https://ss3.4sqi.net/img/categories_v2/food/turkish_', 'suffix': '.png'}, 'primary': True}], 'delivery': {'id': '1079215', 'url': 'https://www.grubhub.com/restaurant/anatolia-bar--grill-5203-center-st-williamsburg/1079215?affiliate=1131&utm_source=foursquare-affiliate-network&utm_medium=affiliate&utm_campaign=1131&utm_content=1079215', 'provider': {'name': 'grubhub', 'icon': {'prefix': 'https://fastly.4sqi.net/img/general/cap/', 'sizes': [40, 50], 'name': '/delivery_provider_grubhub_20180129.png'}}}, 'referralId': 'v-1586135623', 'hasPerk': False}, {'id': '4b75a0eef964a52034182ee3', 'name': 'Olive Garden', 'location': {'address': '2150 Richmond Rd', 'lat': 37.30006162465045, 'lng': -76.72835805299097, 'labeledLatLngs': [{'label': 'display', 'lat': 37.30006162465045, 'lng': -76.72835805299097}], 'distance': 3692, 'postalCode': '23185', 'cc': 'US', 'city': 'Williamsburg', 'state': 'VA', 'country': 'United States', 'formattedAddress': ['2150 Richmond Rd', 'Williamsburg, VA 23185', 'United States']}, 'categories': [{'id': '4bf58dd8d48988d110941735', 'name': 'Italian Restaurant', 'pluralName': 'Italian Restaurants', 'shortName': 'Italian', 'icon': {'prefix': 'https://ss3.4sqi.net/img/categories_v2/food/italian_', 'suffix': '.png'}, 'primary': True}], 'referralId': 'v-1586135623', 'hasPerk': False}, {'id': '4c4f4b7e24edc9b6a77f74bb', 'name': 'Hong Kong', 'location': {'address': '701 Merrimac Trl', 'lat': 37.26938337803216, 'lng': -76.67568848111435, 'labeledLatLngs': [{'label': 'display', 'lat': 37.26938337803216, 'lng': -76.67568848111435}], 'distance': 2407, 'postalCode': '23185', 'cc': 'US', 'city': 'Williamsburg', 'state': 'VA', 'country': 'United States', 'formattedAddress': ['701 Merrimac Trl', 'Williamsburg, VA 23185', 'United States']}, 'categories': [{'id': '4bf58dd8d48988d145941735', 'name': 'Chinese Restaurant', 'pluralName': 'Chinese Restaurants', 'shortName': 'Chinese', 'icon': {'prefix': 'https://ss3.4sqi.net/img/categories_v2/food/asian_', 'suffix': '.png'}, 'primary': True}], 'referralId': 'v-1586135623', 'hasPerk': False}, {'id': '4dd84673d1647fcf3e603973', 'name': \"Eagle's Restaurant\", 'location': {'lat': 37.225727427272375, 'lng': -76.66846604971737, 'labeledLatLngs': [{'label': 'display', 'lat': 37.225727427272375, 'lng': -76.66846604971737}], 'distance': 6172, 'cc': 'US', 'city': 'Williamsburg', 'state': 'VA', 'country': 'United States', 'formattedAddress': ['Williamsburg, VA', 'United States']}, 'categories': [{'id': '4bf58dd8d48988d14e941735', 'name': 'American Restaurant', 'pluralName': 'American Restaurants', 'shortName': 'American', 'icon': {'prefix': 'https://ss3.4sqi.net/img/categories_v2/food/default_', 'suffix': '.png'}, 'primary': True}], 'referralId': 'v-1586135623', 'hasPerk': False}, {'id': '4bc9fa0afb84c9b6e00d1c3e', 'name': 'The Backfin Seafood Restaurant', 'location': {'address': '3701 Strawberry Plains Rd', 'lat': 37.26525685116133, 'lng': -76.74166405749898, 'labeledLatLngs': [{'label': 'display', 'lat': 37.26525685116133, 'lng': -76.74166405749898}], 'distance': 3638, 'postalCode': '23188', 'cc': 'US', 'city': 'Williamsburg', 'state': 'VA', 'country': 'United States', 'formattedAddress': ['3701 Strawberry Plains Rd', 'Williamsburg, VA 23188', 'United States']}, 'categories': [{'id': '4bf58dd8d48988d14e941735', 'name': 'American Restaurant', 'pluralName': 'American Restaurants', 'shortName': 'American', 'icon': {'prefix': 'https://ss3.4sqi.net/img/categories_v2/food/default_', 'suffix': '.png'}, 'primary': True}], 'referralId': 'v-1586135623', 'hasPerk': False}, {'id': '4c33c207ac0ab7137cd31c1e', 'name': \"Maurizio's Ristorante Italiano\", 'location': {'address': '264 McLaws Cir Ste E', 'lat': 37.24508988005057, 'lng': -76.65827736018966, 'labeledLatLngs': [{'label': 'display', 'lat': 37.24508988005057, 'lng': -76.65827736018966}], 'distance': 5065, 'postalCode': '23185', 'cc': 'US', 'city': 'Williamsburg', 'state': 'VA', 'country': 'United States', 'formattedAddress': ['264 McLaws Cir Ste E', 'Williamsburg, VA 23185', 'United States']}, 'categories': [{'id': '4bf58dd8d48988d110941735', 'name': 'Italian Restaurant', 'pluralName': 'Italian Restaurants', 'shortName': 'Italian', 'icon': {'prefix': 'https://ss3.4sqi.net/img/categories_v2/food/italian_', 'suffix': '.png'}, 'primary': True}], 'delivery': {'id': '2037192', 'url': 'https://www.grubhub.com/restaurant/maurizios-ristorante-italiano-264-mclaws-cir-williamsburg/2037192?affiliate=1131&utm_source=foursquare-affiliate-network&utm_medium=affiliate&utm_campaign=1131&utm_content=2037192', 'provider': {'name': 'grubhub', 'icon': {'prefix': 'https://fastly.4sqi.net/img/general/cap/', 'sizes': [40, 50], 'name': '/delivery_provider_grubhub_20180129.png'}}}, 'referralId': 'v-1586135623', 'hasPerk': False}, {'id': '4be6f092cf200f470008153c', 'name': 'Doraldo', 'location': {'address': '1915 Pocahontas Trl', 'lat': 37.24529894974547, 'lng': -76.65610062713812, 'labeledLatLngs': [{'label': 'display', 'lat': 37.24529894974547, 'lng': -76.65610062713812}], 'distance': 5200, 'postalCode': '23185', 'cc': 'US', 'city': 'Williamsburg', 'state': 'VA', 'country': 'United States', 'formattedAddress': ['1915 Pocahontas Trl', 'Williamsburg, VA 23185', 'United States']}, 'categories': [{'id': '4bf58dd8d48988d110941735', 'name': 'Italian Restaurant', 'pluralName': 'Italian Restaurants', 'shortName': 'Italian', 'icon': {'prefix': 'https://ss3.4sqi.net/img/categories_v2/food/italian_', 'suffix': '.png'}, 'primary': True}], 'referralId': 'v-1586135623', 'hasPerk': False}, {'id': '4bf6abd75efe2d7f5a8e6734', 'name': 'Pancho Villa', 'location': {'address': '5251 John Tyler Hwy', 'lat': 37.25798584147844, 'lng': -76.74014231171022, 'labeledLatLngs': [{'label': 'display', 'lat': 37.25798584147844, 'lng': -76.74014231171022}], 'distance': 3820, 'postalCode': '23185', 'cc': 'US', 'city': 'Williamsburg', 'state': 'VA', 'country': 'United States', 'formattedAddress': ['5251 John Tyler Hwy', 'Williamsburg, VA 23185', 'United States']}, 'categories': [{'id': '4bf58dd8d48988d1c1941735', 'name': 'Mexican Restaurant', 'pluralName': 'Mexican Restaurants', 'shortName': 'Mexican', 'icon': {'prefix': 'https://ss3.4sqi.net/img/categories_v2/food/mexican_', 'suffix': '.png'}, 'primary': True}], 'referralId': 'v-1586135623', 'hasPerk': False}, {'id': '4ede45df61af8a14badc9cab', 'name': \"Charly's Airport Restaurant\", 'location': {'address': '100 Marclay Rd', 'lat': 37.24117605663339, 'lng': -76.71786832244291, 'labeledLatLngs': [{'label': 'display', 'lat': 37.24117605663339, 'lng': -76.71786832244291}], 'distance': 3935, 'postalCode': '23185', 'cc': 'US', 'city': 'Williamsburg', 'state': 'VA', 'country': 'United States', 'formattedAddress': ['100 Marclay Rd', 'Williamsburg, VA 23185', 'United States']}, 'categories': [{'id': '4bf58dd8d48988d1c5941735', 'name': 'Sandwich Place', 'pluralName': 'Sandwich Places', 'shortName': 'Sandwiches', 'icon': {'prefix': 'https://ss3.4sqi.net/img/categories_v2/food/deli_', 'suffix': '.png'}, 'primary': True}], 'referralId': 'v-1586135623', 'hasPerk': False}, {'id': '4d402c14915a3704649c127f', 'name': \"Victoria's Restaurant\", 'location': {'address': '5269 John Tyler Hwy', 'lat': 37.25878790373504, 'lng': -76.73908424466367, 'labeledLatLngs': [{'label': 'display', 'lat': 37.25878790373504, 'lng': -76.73908424466367}], 'distance': 3695, 'postalCode': '23185', 'cc': 'US', 'city': 'Williamsburg', 'state': 'VA', 'country': 'United States', 'formattedAddress': ['5269 John Tyler Hwy', 'Williamsburg, VA 23185', 'United States']}, 'categories': [{'id': '4bf58dd8d48988d14e941735', 'name': 'American Restaurant', 'pluralName': 'American Restaurants', 'shortName': 'American', 'icon': {'prefix': 'https://ss3.4sqi.net/img/categories_v2/food/default_', 'suffix': '.png'}, 'primary': True}], 'referralId': 'v-1586135623', 'hasPerk': False}, {'id': '4bd4daea6f649521004b6eec', 'name': 'Golden China', 'location': {'address': '4854 Longhill Rd', 'crossStreet': 'Olde Towne Rd', 'lat': 37.306903461139164, 'lng': -76.75140955638933, 'labeledLatLngs': [{'label': 'display', 'lat': 37.306903461139164, 'lng': -76.75140955638933}], 'distance': 5677, 'postalCode': '23188', 'cc': 'US', 'city': 'Williamsburg', 'state': 'VA', 'country': 'United States', 'formattedAddress': ['4854 Longhill Rd (Olde Towne Rd)', 'Williamsburg, VA 23188', 'United States']}, 'categories': [{'id': '4bf58dd8d48988d145941735', 'name': 'Chinese Restaurant', 'pluralName': 'Chinese Restaurants', 'shortName': 'Chinese', 'icon': {'prefix': 'https://ss3.4sqi.net/img/categories_v2/food/asian_', 'suffix': '.png'}, 'primary': True}], 'referralId': 'v-1586135623', 'hasPerk': False}, {'id': '4ba4c508f964a5203bb338e3', 'name': 'The Historic Powhatan Resort', 'location': {'address': '3601 Ironbound Rd', 'crossStreet': 'Fifthian Ln', 'lat': 37.26231788633421, 'lng': -76.77025817247224, 'labeledLatLngs': [{'label': 'display', 'lat': 37.26231788633421, 'lng': -76.77025817247224}], 'distance': 6176, 'postalCode': '23188', 'cc': 'US', 'city': 'Williamsburg', 'state': 'VA', 'country': 'United States', 'formattedAddress': ['3601 Ironbound Rd (Fifthian Ln)', 'Williamsburg, VA 23188', 'United States']}, 'categories': [{'id': '4bf58dd8d48988d12f951735', 'name': 'Resort', 'pluralName': 'Resorts', 'shortName': 'Resort', 'icon': {'prefix': 'https://ss3.4sqi.net/img/categories_v2/travel/resort_', 'suffix': '.png'}, 'primary': True}], 'referralId': 'v-1586135623', 'hasPerk': False}]}}\n"
     ]
    }
   ],
   "source": [
    "# Send the GET Request and examine the results\n",
    "results = requests.get(url).json()\n",
    "print(results)"
   ]
  },
  {
   "cell_type": "markdown",
   "metadata": {},
   "source": [
    "#### Create a dataframe contains every information that may be needed"
   ]
  },
  {
   "cell_type": "code",
   "execution_count": 11,
   "metadata": {},
   "outputs": [
    {
     "data": {
      "text/html": [
       "<div>\n",
       "<style scoped>\n",
       "    .dataframe tbody tr th:only-of-type {\n",
       "        vertical-align: middle;\n",
       "    }\n",
       "\n",
       "    .dataframe tbody tr th {\n",
       "        vertical-align: top;\n",
       "    }\n",
       "\n",
       "    .dataframe thead th {\n",
       "        text-align: right;\n",
       "    }\n",
       "</style>\n",
       "<table border=\"1\" class=\"dataframe\">\n",
       "  <thead>\n",
       "    <tr style=\"text-align: right;\">\n",
       "      <th></th>\n",
       "      <th>id</th>\n",
       "      <th>name</th>\n",
       "      <th>categories</th>\n",
       "      <th>referralId</th>\n",
       "      <th>hasPerk</th>\n",
       "      <th>location.address</th>\n",
       "      <th>location.crossStreet</th>\n",
       "      <th>location.lat</th>\n",
       "      <th>location.lng</th>\n",
       "      <th>location.labeledLatLngs</th>\n",
       "      <th>location.distance</th>\n",
       "      <th>location.postalCode</th>\n",
       "      <th>location.cc</th>\n",
       "      <th>location.city</th>\n",
       "      <th>location.state</th>\n",
       "      <th>location.country</th>\n",
       "      <th>location.formattedAddress</th>\n",
       "      <th>delivery.id</th>\n",
       "      <th>delivery.url</th>\n",
       "      <th>delivery.provider.name</th>\n",
       "      <th>delivery.provider.icon.prefix</th>\n",
       "      <th>delivery.provider.icon.sizes</th>\n",
       "      <th>delivery.provider.icon.name</th>\n",
       "      <th>venuePage.id</th>\n",
       "    </tr>\n",
       "  </thead>\n",
       "  <tbody>\n",
       "    <tr>\n",
       "      <td>0</td>\n",
       "      <td>4b5b270cf964a520e3e628e3</td>\n",
       "      <td>The Trellis Restaurant</td>\n",
       "      <td>[{'id': '4bf58dd8d48988d14e941735', 'name': 'A...</td>\n",
       "      <td>v-1586135623</td>\n",
       "      <td>False</td>\n",
       "      <td>403 W Duke of Gloucester St</td>\n",
       "      <td>N Henry St</td>\n",
       "      <td>37.271081</td>\n",
       "      <td>-76.706156</td>\n",
       "      <td>[{'label': 'display', 'lat': 37.27108130431542...</td>\n",
       "      <td>499</td>\n",
       "      <td>23185</td>\n",
       "      <td>US</td>\n",
       "      <td>Williamsburg</td>\n",
       "      <td>VA</td>\n",
       "      <td>United States</td>\n",
       "      <td>[403 W Duke of Gloucester St (N Henry St), Wil...</td>\n",
       "      <td>NaN</td>\n",
       "      <td>NaN</td>\n",
       "      <td>NaN</td>\n",
       "      <td>NaN</td>\n",
       "      <td>NaN</td>\n",
       "      <td>NaN</td>\n",
       "      <td>NaN</td>\n",
       "    </tr>\n",
       "    <tr>\n",
       "      <td>1</td>\n",
       "      <td>4bb0e18ff964a5203c663ce3</td>\n",
       "      <td>Berret's Seafood Restaurant and Taphouse Grill</td>\n",
       "      <td>[{'id': '4bf58dd8d48988d1ce941735', 'name': 'S...</td>\n",
       "      <td>v-1586135623</td>\n",
       "      <td>False</td>\n",
       "      <td>199 S Boundary St</td>\n",
       "      <td>Merchant's Square</td>\n",
       "      <td>37.270027</td>\n",
       "      <td>-76.707125</td>\n",
       "      <td>[{'label': 'display', 'lat': 37.27002662899438...</td>\n",
       "      <td>643</td>\n",
       "      <td>23185</td>\n",
       "      <td>US</td>\n",
       "      <td>Williamsburg</td>\n",
       "      <td>VA</td>\n",
       "      <td>United States</td>\n",
       "      <td>[199 S Boundary St (Merchant's Square), Willia...</td>\n",
       "      <td>2044294</td>\n",
       "      <td>https://www.grubhub.com/restaurant/berrets-sea...</td>\n",
       "      <td>grubhub</td>\n",
       "      <td>https://fastly.4sqi.net/img/general/cap/</td>\n",
       "      <td>[40, 50]</td>\n",
       "      <td>/delivery_provider_grubhub_20180129.png</td>\n",
       "      <td>36256198</td>\n",
       "    </tr>\n",
       "    <tr>\n",
       "      <td>2</td>\n",
       "      <td>4c73ec6aec8d952110def1c2</td>\n",
       "      <td>Peking Restaurant</td>\n",
       "      <td>[{'id': '4bf58dd8d48988d111941735', 'name': 'J...</td>\n",
       "      <td>v-1586135623</td>\n",
       "      <td>False</td>\n",
       "      <td>120 Waller Mill Rd Ste J</td>\n",
       "      <td>Bypass Rd</td>\n",
       "      <td>37.288596</td>\n",
       "      <td>-76.717956</td>\n",
       "      <td>[{'label': 'display', 'lat': 37.28859584124185...</td>\n",
       "      <td>2122</td>\n",
       "      <td>23185</td>\n",
       "      <td>US</td>\n",
       "      <td>Williamsburg</td>\n",
       "      <td>VA</td>\n",
       "      <td>United States</td>\n",
       "      <td>[120 Waller Mill Rd Ste J (Bypass Rd), William...</td>\n",
       "      <td>NaN</td>\n",
       "      <td>NaN</td>\n",
       "      <td>NaN</td>\n",
       "      <td>NaN</td>\n",
       "      <td>NaN</td>\n",
       "      <td>NaN</td>\n",
       "      <td>445345761</td>\n",
       "    </tr>\n",
       "    <tr>\n",
       "      <td>3</td>\n",
       "      <td>4daa52174df01c19b1886570</td>\n",
       "      <td>The Veranda Restaurant (Fort Magruder Hotel)</td>\n",
       "      <td>[{'id': '4bf58dd8d48988d14e941735', 'name': 'A...</td>\n",
       "      <td>v-1586135623</td>\n",
       "      <td>False</td>\n",
       "      <td>NaN</td>\n",
       "      <td>NaN</td>\n",
       "      <td>37.263629</td>\n",
       "      <td>-76.679951</td>\n",
       "      <td>[{'label': 'display', 'lat': 37.26362902781627...</td>\n",
       "      <td>2296</td>\n",
       "      <td>NaN</td>\n",
       "      <td>US</td>\n",
       "      <td>Williamsburg</td>\n",
       "      <td>VA</td>\n",
       "      <td>United States</td>\n",
       "      <td>[Williamsburg, VA, United States]</td>\n",
       "      <td>NaN</td>\n",
       "      <td>NaN</td>\n",
       "      <td>NaN</td>\n",
       "      <td>NaN</td>\n",
       "      <td>NaN</td>\n",
       "      <td>NaN</td>\n",
       "      <td>NaN</td>\n",
       "    </tr>\n",
       "    <tr>\n",
       "      <td>4</td>\n",
       "      <td>4c3243067cc0c9b63005f09a</td>\n",
       "      <td>The Jefferson Restaurant</td>\n",
       "      <td>[{'id': '4bf58dd8d48988d14e941735', 'name': 'A...</td>\n",
       "      <td>v-1586135623</td>\n",
       "      <td>False</td>\n",
       "      <td>1453 Richmond Rd</td>\n",
       "      <td>NaN</td>\n",
       "      <td>37.289970</td>\n",
       "      <td>-76.722190</td>\n",
       "      <td>[{'label': 'display', 'lat': 37.28997, 'lng': ...</td>\n",
       "      <td>2491</td>\n",
       "      <td>23185</td>\n",
       "      <td>US</td>\n",
       "      <td>Williamsburg</td>\n",
       "      <td>VA</td>\n",
       "      <td>United States</td>\n",
       "      <td>[1453 Richmond Rd, Williamsburg, VA 23185, Uni...</td>\n",
       "      <td>NaN</td>\n",
       "      <td>NaN</td>\n",
       "      <td>NaN</td>\n",
       "      <td>NaN</td>\n",
       "      <td>NaN</td>\n",
       "      <td>NaN</td>\n",
       "      <td>NaN</td>\n",
       "    </tr>\n",
       "  </tbody>\n",
       "</table>\n",
       "</div>"
      ],
      "text/plain": [
       "                         id                                            name  \\\n",
       "0  4b5b270cf964a520e3e628e3                          The Trellis Restaurant   \n",
       "1  4bb0e18ff964a5203c663ce3  Berret's Seafood Restaurant and Taphouse Grill   \n",
       "2  4c73ec6aec8d952110def1c2                               Peking Restaurant   \n",
       "3  4daa52174df01c19b1886570    The Veranda Restaurant (Fort Magruder Hotel)   \n",
       "4  4c3243067cc0c9b63005f09a                        The Jefferson Restaurant   \n",
       "\n",
       "                                          categories    referralId  hasPerk  \\\n",
       "0  [{'id': '4bf58dd8d48988d14e941735', 'name': 'A...  v-1586135623    False   \n",
       "1  [{'id': '4bf58dd8d48988d1ce941735', 'name': 'S...  v-1586135623    False   \n",
       "2  [{'id': '4bf58dd8d48988d111941735', 'name': 'J...  v-1586135623    False   \n",
       "3  [{'id': '4bf58dd8d48988d14e941735', 'name': 'A...  v-1586135623    False   \n",
       "4  [{'id': '4bf58dd8d48988d14e941735', 'name': 'A...  v-1586135623    False   \n",
       "\n",
       "              location.address location.crossStreet  location.lat  \\\n",
       "0  403 W Duke of Gloucester St           N Henry St     37.271081   \n",
       "1            199 S Boundary St    Merchant's Square     37.270027   \n",
       "2     120 Waller Mill Rd Ste J            Bypass Rd     37.288596   \n",
       "3                          NaN                  NaN     37.263629   \n",
       "4             1453 Richmond Rd                  NaN     37.289970   \n",
       "\n",
       "   location.lng                            location.labeledLatLngs  \\\n",
       "0    -76.706156  [{'label': 'display', 'lat': 37.27108130431542...   \n",
       "1    -76.707125  [{'label': 'display', 'lat': 37.27002662899438...   \n",
       "2    -76.717956  [{'label': 'display', 'lat': 37.28859584124185...   \n",
       "3    -76.679951  [{'label': 'display', 'lat': 37.26362902781627...   \n",
       "4    -76.722190  [{'label': 'display', 'lat': 37.28997, 'lng': ...   \n",
       "\n",
       "   location.distance location.postalCode location.cc location.city  \\\n",
       "0                499               23185          US  Williamsburg   \n",
       "1                643               23185          US  Williamsburg   \n",
       "2               2122               23185          US  Williamsburg   \n",
       "3               2296                 NaN          US  Williamsburg   \n",
       "4               2491               23185          US  Williamsburg   \n",
       "\n",
       "  location.state location.country  \\\n",
       "0             VA    United States   \n",
       "1             VA    United States   \n",
       "2             VA    United States   \n",
       "3             VA    United States   \n",
       "4             VA    United States   \n",
       "\n",
       "                           location.formattedAddress delivery.id  \\\n",
       "0  [403 W Duke of Gloucester St (N Henry St), Wil...         NaN   \n",
       "1  [199 S Boundary St (Merchant's Square), Willia...     2044294   \n",
       "2  [120 Waller Mill Rd Ste J (Bypass Rd), William...         NaN   \n",
       "3                  [Williamsburg, VA, United States]         NaN   \n",
       "4  [1453 Richmond Rd, Williamsburg, VA 23185, Uni...         NaN   \n",
       "\n",
       "                                        delivery.url delivery.provider.name  \\\n",
       "0                                                NaN                    NaN   \n",
       "1  https://www.grubhub.com/restaurant/berrets-sea...                grubhub   \n",
       "2                                                NaN                    NaN   \n",
       "3                                                NaN                    NaN   \n",
       "4                                                NaN                    NaN   \n",
       "\n",
       "              delivery.provider.icon.prefix delivery.provider.icon.sizes  \\\n",
       "0                                       NaN                          NaN   \n",
       "1  https://fastly.4sqi.net/img/general/cap/                     [40, 50]   \n",
       "2                                       NaN                          NaN   \n",
       "3                                       NaN                          NaN   \n",
       "4                                       NaN                          NaN   \n",
       "\n",
       "               delivery.provider.icon.name venuePage.id  \n",
       "0                                      NaN          NaN  \n",
       "1  /delivery_provider_grubhub_20180129.png     36256198  \n",
       "2                                      NaN    445345761  \n",
       "3                                      NaN          NaN  \n",
       "4                                      NaN          NaN  "
      ]
     },
     "execution_count": 11,
     "metadata": {},
     "output_type": "execute_result"
    }
   ],
   "source": [
    "# assign relevant part of JSON to venues\n",
    "venues = results['response']['venues']\n",
    "\n",
    "# tranform venues into a dataframe\n",
    "dataframe = json_normalize(venues)\n",
    "dataframe.head()"
   ]
  },
  {
   "cell_type": "code",
   "execution_count": 12,
   "metadata": {},
   "outputs": [
    {
     "data": {
      "text/html": [
       "<div>\n",
       "<style scoped>\n",
       "    .dataframe tbody tr th:only-of-type {\n",
       "        vertical-align: middle;\n",
       "    }\n",
       "\n",
       "    .dataframe tbody tr th {\n",
       "        vertical-align: top;\n",
       "    }\n",
       "\n",
       "    .dataframe thead th {\n",
       "        text-align: right;\n",
       "    }\n",
       "</style>\n",
       "<table border=\"1\" class=\"dataframe\">\n",
       "  <thead>\n",
       "    <tr style=\"text-align: right;\">\n",
       "      <th></th>\n",
       "      <th>name</th>\n",
       "      <th>categories</th>\n",
       "      <th>address</th>\n",
       "      <th>crossStreet</th>\n",
       "      <th>lat</th>\n",
       "      <th>lng</th>\n",
       "      <th>labeledLatLngs</th>\n",
       "      <th>distance</th>\n",
       "      <th>postalCode</th>\n",
       "      <th>cc</th>\n",
       "      <th>city</th>\n",
       "      <th>state</th>\n",
       "      <th>country</th>\n",
       "      <th>formattedAddress</th>\n",
       "      <th>id</th>\n",
       "    </tr>\n",
       "  </thead>\n",
       "  <tbody>\n",
       "    <tr>\n",
       "      <td>0</td>\n",
       "      <td>The Trellis Restaurant</td>\n",
       "      <td>American Restaurant</td>\n",
       "      <td>403 W Duke of Gloucester St</td>\n",
       "      <td>N Henry St</td>\n",
       "      <td>37.271081</td>\n",
       "      <td>-76.706156</td>\n",
       "      <td>[{'label': 'display', 'lat': 37.27108130431542...</td>\n",
       "      <td>499</td>\n",
       "      <td>23185</td>\n",
       "      <td>US</td>\n",
       "      <td>Williamsburg</td>\n",
       "      <td>VA</td>\n",
       "      <td>United States</td>\n",
       "      <td>[403 W Duke of Gloucester St (N Henry St), Wil...</td>\n",
       "      <td>4b5b270cf964a520e3e628e3</td>\n",
       "    </tr>\n",
       "    <tr>\n",
       "      <td>1</td>\n",
       "      <td>Berret's Seafood Restaurant and Taphouse Grill</td>\n",
       "      <td>Seafood Restaurant</td>\n",
       "      <td>199 S Boundary St</td>\n",
       "      <td>Merchant's Square</td>\n",
       "      <td>37.270027</td>\n",
       "      <td>-76.707125</td>\n",
       "      <td>[{'label': 'display', 'lat': 37.27002662899438...</td>\n",
       "      <td>643</td>\n",
       "      <td>23185</td>\n",
       "      <td>US</td>\n",
       "      <td>Williamsburg</td>\n",
       "      <td>VA</td>\n",
       "      <td>United States</td>\n",
       "      <td>[199 S Boundary St (Merchant's Square), Willia...</td>\n",
       "      <td>4bb0e18ff964a5203c663ce3</td>\n",
       "    </tr>\n",
       "    <tr>\n",
       "      <td>2</td>\n",
       "      <td>Peking Restaurant</td>\n",
       "      <td>Japanese Restaurant</td>\n",
       "      <td>120 Waller Mill Rd Ste J</td>\n",
       "      <td>Bypass Rd</td>\n",
       "      <td>37.288596</td>\n",
       "      <td>-76.717956</td>\n",
       "      <td>[{'label': 'display', 'lat': 37.28859584124185...</td>\n",
       "      <td>2122</td>\n",
       "      <td>23185</td>\n",
       "      <td>US</td>\n",
       "      <td>Williamsburg</td>\n",
       "      <td>VA</td>\n",
       "      <td>United States</td>\n",
       "      <td>[120 Waller Mill Rd Ste J (Bypass Rd), William...</td>\n",
       "      <td>4c73ec6aec8d952110def1c2</td>\n",
       "    </tr>\n",
       "    <tr>\n",
       "      <td>3</td>\n",
       "      <td>The Veranda Restaurant (Fort Magruder Hotel)</td>\n",
       "      <td>American Restaurant</td>\n",
       "      <td>NaN</td>\n",
       "      <td>NaN</td>\n",
       "      <td>37.263629</td>\n",
       "      <td>-76.679951</td>\n",
       "      <td>[{'label': 'display', 'lat': 37.26362902781627...</td>\n",
       "      <td>2296</td>\n",
       "      <td>NaN</td>\n",
       "      <td>US</td>\n",
       "      <td>Williamsburg</td>\n",
       "      <td>VA</td>\n",
       "      <td>United States</td>\n",
       "      <td>[Williamsburg, VA, United States]</td>\n",
       "      <td>4daa52174df01c19b1886570</td>\n",
       "    </tr>\n",
       "    <tr>\n",
       "      <td>4</td>\n",
       "      <td>The Jefferson Restaurant</td>\n",
       "      <td>American Restaurant</td>\n",
       "      <td>1453 Richmond Rd</td>\n",
       "      <td>NaN</td>\n",
       "      <td>37.289970</td>\n",
       "      <td>-76.722190</td>\n",
       "      <td>[{'label': 'display', 'lat': 37.28997, 'lng': ...</td>\n",
       "      <td>2491</td>\n",
       "      <td>23185</td>\n",
       "      <td>US</td>\n",
       "      <td>Williamsburg</td>\n",
       "      <td>VA</td>\n",
       "      <td>United States</td>\n",
       "      <td>[1453 Richmond Rd, Williamsburg, VA 23185, Uni...</td>\n",
       "      <td>4c3243067cc0c9b63005f09a</td>\n",
       "    </tr>\n",
       "  </tbody>\n",
       "</table>\n",
       "</div>"
      ],
      "text/plain": [
       "                                             name           categories  \\\n",
       "0                          The Trellis Restaurant  American Restaurant   \n",
       "1  Berret's Seafood Restaurant and Taphouse Grill   Seafood Restaurant   \n",
       "2                               Peking Restaurant  Japanese Restaurant   \n",
       "3    The Veranda Restaurant (Fort Magruder Hotel)  American Restaurant   \n",
       "4                        The Jefferson Restaurant  American Restaurant   \n",
       "\n",
       "                       address        crossStreet        lat        lng  \\\n",
       "0  403 W Duke of Gloucester St         N Henry St  37.271081 -76.706156   \n",
       "1            199 S Boundary St  Merchant's Square  37.270027 -76.707125   \n",
       "2     120 Waller Mill Rd Ste J          Bypass Rd  37.288596 -76.717956   \n",
       "3                          NaN                NaN  37.263629 -76.679951   \n",
       "4             1453 Richmond Rd                NaN  37.289970 -76.722190   \n",
       "\n",
       "                                      labeledLatLngs  distance postalCode  cc  \\\n",
       "0  [{'label': 'display', 'lat': 37.27108130431542...       499      23185  US   \n",
       "1  [{'label': 'display', 'lat': 37.27002662899438...       643      23185  US   \n",
       "2  [{'label': 'display', 'lat': 37.28859584124185...      2122      23185  US   \n",
       "3  [{'label': 'display', 'lat': 37.26362902781627...      2296        NaN  US   \n",
       "4  [{'label': 'display', 'lat': 37.28997, 'lng': ...      2491      23185  US   \n",
       "\n",
       "           city state        country  \\\n",
       "0  Williamsburg    VA  United States   \n",
       "1  Williamsburg    VA  United States   \n",
       "2  Williamsburg    VA  United States   \n",
       "3  Williamsburg    VA  United States   \n",
       "4  Williamsburg    VA  United States   \n",
       "\n",
       "                                    formattedAddress                        id  \n",
       "0  [403 W Duke of Gloucester St (N Henry St), Wil...  4b5b270cf964a520e3e628e3  \n",
       "1  [199 S Boundary St (Merchant's Square), Willia...  4bb0e18ff964a5203c663ce3  \n",
       "2  [120 Waller Mill Rd Ste J (Bypass Rd), William...  4c73ec6aec8d952110def1c2  \n",
       "3                  [Williamsburg, VA, United States]  4daa52174df01c19b1886570  \n",
       "4  [1453 Richmond Rd, Williamsburg, VA 23185, Uni...  4c3243067cc0c9b63005f09a  "
      ]
     },
     "execution_count": 12,
     "metadata": {},
     "output_type": "execute_result"
    }
   ],
   "source": [
    "food_category = '4bf58dd8d48988d14e941735'\n",
    "# keep only columns that include venue name, and anything that is associated with location\n",
    "filtered_columns = ['name', 'categories'] + [col for col in dataframe.columns if col.startswith('location.')] + ['id']\n",
    "dataframe_filtered = dataframe.loc[:, filtered_columns]\n",
    "\n",
    "# function that extracts the category of the venue\n",
    "def get_category_type(row):\n",
    "    try:\n",
    "        categories_list = row['categories']\n",
    "    except:\n",
    "        categories_list = row['venue.categories']\n",
    "        \n",
    "    if len(categories_list) == 0:\n",
    "        return None\n",
    "    else:\n",
    "        return categories_list[0]['name']\n",
    "\n",
    "# filter the category for each row\n",
    "dataframe_filtered['categories'] = dataframe_filtered.apply(get_category_type, axis=1)\n",
    "\n",
    "# clean column names by keeping only last term\n",
    "dataframe_filtered.columns = [column.split('.')[-1] for column in dataframe_filtered.columns]\n",
    "\n",
    "dataframe_filtered.head()"
   ]
  },
  {
   "cell_type": "markdown",
   "metadata": {},
   "source": [
    "#### Now we have a basic idea of restaurants in Williamsburg and we have the coordinate of the center of Williamsburg. Also, we know the distances between each retaurants and the center of Williamsburg"
   ]
  },
  {
   "cell_type": "markdown",
   "metadata": {},
   "source": [
    "#### Now lets take a look of rating for The Trellis Restaurant"
   ]
  },
  {
   "cell_type": "code",
   "execution_count": 14,
   "metadata": {},
   "outputs": [
    {
     "name": "stdout",
     "output_type": "stream",
     "text": [
      "7.1\n"
     ]
    }
   ],
   "source": [
    "venue_id = '4b5b270cf964a520e3e628e3' # ID of The Trellis Restaurant\n",
    "url = 'https://api.foursquare.com/v2/venues/{}?client_id={}&client_secret={}&v={}'.format(venue_id, CLIENT_ID, CLIENT_SECRET, VERSION)\n",
    "result = requests.get(url).json()\n",
    "try:\n",
    "    print(result['response']['venue']['rating'])\n",
    "except:\n",
    "    print('This venue has not been rated yet.')"
   ]
  },
  {
   "cell_type": "markdown",
   "metadata": {},
   "source": [
    "## Analysis\n",
    "\n"
   ]
  },
  {
   "cell_type": "markdown",
   "metadata": {},
   "source": [
    "#### Since we can get coordinates from address, lets try getting address from coordinates. In this part, we are going to find neighborhoods around the center of Williamsburg, also, we will find the number of restaurants in the neighborhoods. The final locations for our restaurant is going to be around the center of Williamsburg. "
   ]
  },
  {
   "cell_type": "markdown",
   "metadata": {},
   "source": [
    "#### First, we need to know the address of the center of Williamsburg. The function will be used later to access not only for address of center Williamsburg, but also for other locations. Here we are able to define latitude and longitude because we got the coordinate from before."
   ]
  },
  {
   "cell_type": "code",
   "execution_count": 15,
   "metadata": {},
   "outputs": [
    {
     "name": "stdout",
     "output_type": "stream",
     "text": [
      "Reverse geocoding check\n",
      "-----------------------\n",
      "Address of [37.2742497, -76.7021709] is: 403 W Duke of Gloucester St (N Henry St), Williamsburg, VA 23185, United States\n"
     ]
    }
   ],
   "source": [
    "def get_address(latitude, longitude, verbose=False):\n",
    "    url = 'https://api.foursquare.com/v2/venues/search?client_id={}&client_secret={}&ll={},{}&v={}&query={}&radius={}&limit={}'.format(CLIENT_ID, CLIENT_SECRET, latitude, longitude, VERSION, search_query, radius, LIMIT)\n",
    "    response = requests.get(url).json()\n",
    "    #print(response)\n",
    "    if verbose:\n",
    "        print('Foursquare Maps API JSON result =>', response)\n",
    "    #print(response)\n",
    "    results = response['response']['venues']\n",
    "    #print(results)\n",
    "    address = results[0]['location']['formattedAddress']\n",
    "    #print(address)\n",
    "    #return address\n",
    "    return(', '.join(address))\n",
    "\n",
    "    \n",
    "add = get_address(latitude, longitude)\n",
    "print('Reverse geocoding check')\n",
    "print('-----------------------')\n",
    "print('Address of [{}, {}] is: {}'.format(latitude, longitude, add))"
   ]
  },
  {
   "cell_type": "markdown",
   "metadata": {},
   "source": [
    "#### We need to know both the coordinate of a location and the *** distance in meters *** for later calculation. WGS84 is spherical coordinate system."
   ]
  },
  {
   "cell_type": "code",
   "execution_count": 16,
   "metadata": {},
   "outputs": [
    {
     "name": "stdout",
     "output_type": "stream",
     "text": [
      "Coordinate transforming\n",
      "-------------------------------\n",
      "Governor's Palace longitude=-76.7021709, latitude=37.2742497\n",
      "Governor's Palace UTM X=-6422849.218666615, Y=10246073.437448127\n",
      "Governor's Palace longitude=-76.70217090000224, latitude=37.27424969999654\n"
     ]
    }
   ],
   "source": [
    "def lonlat_to_xy(lon, lat):\n",
    "    proj_latlon = pyproj.Proj(proj='latlong',datum='WGS84')\n",
    "    proj_xy = pyproj.Proj(proj=\"utm\", zone=33, datum='WGS84')\n",
    "    xy = pyproj.transform(proj_latlon, proj_xy, lon, lat)\n",
    "    return xy[0], xy[1]\n",
    "\n",
    "def xy_to_lonlat(x, y):\n",
    "    proj_latlon = pyproj.Proj(proj='latlong',datum='WGS84')\n",
    "    proj_xy = pyproj.Proj(proj=\"utm\", zone=33, datum='WGS84')\n",
    "    lonlat = pyproj.transform(proj_xy, proj_latlon, x, y)\n",
    "    return lonlat[0], lonlat[1]\n",
    "\n",
    "def calc_xy_distance(x1, y1, x2, y2):\n",
    "    dx = x2 - x1\n",
    "    dy = y2 - y1\n",
    "    return math.sqrt(dx*dx + dy*dy)\n",
    "\n",
    "print('Coordinate transforming')\n",
    "print('-------------------------------')\n",
    "print(\"Governor's Palace longitude={}, latitude={}\".format(longitude, latitude))\n",
    "x, y = lonlat_to_xy(longitude, latitude)\n",
    "print(\"Governor's Palace UTM X={}, Y={}\".format(x, y))\n",
    "lo, la = xy_to_lonlat(x, y)\n",
    "print(\"Governor's Palace longitude={}, latitude={}\".format(lo, la))"
   ]
  },
  {
   "cell_type": "code",
   "execution_count": 17,
   "metadata": {},
   "outputs": [
    {
     "name": "stdout",
     "output_type": "stream",
     "text": [
      "42 candidate neighborhood centers generated.\n"
     ]
    }
   ],
   "source": [
    "center_x, center_y = lonlat_to_xy(longitude, latitude)\n",
    "\n",
    "k = math.sqrt(3) / 2 # Vertical offset for hexagonal grid cells\n",
    "x_min = center_x - 6000\n",
    "x_step = 600\n",
    "y_min = center_y - 6000 - (int(21/k)*k*600 - 12000)/2\n",
    "y_step = 600 * k \n",
    "\n",
    "latitudes = []\n",
    "longitudes = []\n",
    "distances_from_center = []\n",
    "xs = []\n",
    "ys = []\n",
    "for i in range(0, int(21/k)):\n",
    "    y = y_min + i * y_step\n",
    "    x_offset = 300 if i%2==0 else 0\n",
    "    for j in range(0, 21):\n",
    "        x = x_min + j * x_step + x_offset\n",
    "        distance_from_center = calc_xy_distance(center_x, center_y, x, y)\n",
    "        if (distance_from_center <= 2001):\n",
    "            lon, lat = xy_to_lonlat(x, y)\n",
    "            latitudes.append(lat)\n",
    "            longitudes.append(lon)\n",
    "            distances_from_center.append(distance_from_center)\n",
    "            xs.append(x)\n",
    "            ys.append(y)\n",
    "print(len(latitudes), 'candidate neighborhood centers generated.')"
   ]
  },
  {
   "cell_type": "code",
   "execution_count": 18,
   "metadata": {},
   "outputs": [
    {
     "name": "stdout",
     "output_type": "stream",
     "text": [
      "Obtaining location addresses: .......................................... done.\n"
     ]
    }
   ],
   "source": [
    "print('Obtaining location addresses: ', end='')\n",
    "addresses = []\n",
    "for lat, lon in zip(latitudes, longitudes):\n",
    "    address = get_address(lat, lon)\n",
    "    if address is None:\n",
    "        address = 'NO ADDRESS'\n",
    "    #address = address.remove('United States') # We don't need country part of address\n",
    "    addresses.append(address)\n",
    "    print('.', end='')\n",
    "print(' done.')"
   ]
  },
  {
   "cell_type": "code",
   "execution_count": 19,
   "metadata": {},
   "outputs": [
    {
     "data": {
      "text/plain": [
       "[\"199 S Boundary St (Merchant's Square), Williamsburg, VA 23185, United States\",\n",
       " '403 W Duke of Gloucester St (N Henry St), Williamsburg, VA 23185, United States',\n",
       " '403 W Duke of Gloucester St (N Henry St), Williamsburg, VA 23185, United States',\n",
       " '403 W Duke of Gloucester St (N Henry St), Williamsburg, VA 23185, United States',\n",
       " '403 W Duke of Gloucester St (N Henry St), Williamsburg, VA 23185, United States',\n",
       " '120 Waller Mill Rd Ste J (Bypass Rd), Williamsburg, VA 23185, United States',\n",
       " \"199 S Boundary St (Merchant's Square), Williamsburg, VA 23185, United States\",\n",
       " \"199 S Boundary St (Merchant's Square), Williamsburg, VA 23185, United States\",\n",
       " '403 W Duke of Gloucester St (N Henry St), Williamsburg, VA 23185, United States',\n",
       " '403 W Duke of Gloucester St (N Henry St), Williamsburg, VA 23185, United States']"
      ]
     },
     "execution_count": 19,
     "metadata": {},
     "output_type": "execute_result"
    }
   ],
   "source": [
    "addresses[25:35]"
   ]
  },
  {
   "cell_type": "markdown",
   "metadata": {},
   "source": [
    "#### Create a new dataframe for locations, notice that although the address are the same, the coordinates are different. This is probably caused by the city is small"
   ]
  },
  {
   "cell_type": "code",
   "execution_count": 20,
   "metadata": {},
   "outputs": [
    {
     "data": {
      "text/html": [
       "<div>\n",
       "<style scoped>\n",
       "    .dataframe tbody tr th:only-of-type {\n",
       "        vertical-align: middle;\n",
       "    }\n",
       "\n",
       "    .dataframe tbody tr th {\n",
       "        vertical-align: top;\n",
       "    }\n",
       "\n",
       "    .dataframe thead th {\n",
       "        text-align: right;\n",
       "    }\n",
       "</style>\n",
       "<table border=\"1\" class=\"dataframe\">\n",
       "  <thead>\n",
       "    <tr style=\"text-align: right;\">\n",
       "      <th></th>\n",
       "      <th>Address</th>\n",
       "      <th>Latitude</th>\n",
       "      <th>Longitude</th>\n",
       "      <th>X</th>\n",
       "      <th>Y</th>\n",
       "      <th>Distance from center</th>\n",
       "    </tr>\n",
       "  </thead>\n",
       "  <tbody>\n",
       "    <tr>\n",
       "      <td>0</td>\n",
       "      <td>403 W Duke of Gloucester St (N Henry St), Will...</td>\n",
       "      <td>37.268093</td>\n",
       "      <td>-76.691090</td>\n",
       "      <td>-6.424049e+06</td>\n",
       "      <td>1.024451e+07</td>\n",
       "      <td>1967.231557</td>\n",
       "    </tr>\n",
       "    <tr>\n",
       "      <td>1</td>\n",
       "      <td>403 W Duke of Gloucester St (N Henry St), Will...</td>\n",
       "      <td>37.271378</td>\n",
       "      <td>-76.691289</td>\n",
       "      <td>-6.423449e+06</td>\n",
       "      <td>1.024451e+07</td>\n",
       "      <td>1670.329309</td>\n",
       "    </tr>\n",
       "    <tr>\n",
       "      <td>2</td>\n",
       "      <td>403 W Duke of Gloucester St (N Henry St), Will...</td>\n",
       "      <td>37.274664</td>\n",
       "      <td>-76.691488</td>\n",
       "      <td>-6.422849e+06</td>\n",
       "      <td>1.024451e+07</td>\n",
       "      <td>1558.845727</td>\n",
       "    </tr>\n",
       "    <tr>\n",
       "      <td>3</td>\n",
       "      <td>403 W Duke of Gloucester St (N Henry St), Will...</td>\n",
       "      <td>37.277950</td>\n",
       "      <td>-76.691687</td>\n",
       "      <td>-6.422249e+06</td>\n",
       "      <td>1.024451e+07</td>\n",
       "      <td>1670.329309</td>\n",
       "    </tr>\n",
       "    <tr>\n",
       "      <td>4</td>\n",
       "      <td>403 W Duke of Gloucester St (N Henry St), Will...</td>\n",
       "      <td>37.281237</td>\n",
       "      <td>-76.691886</td>\n",
       "      <td>-6.421649e+06</td>\n",
       "      <td>1.024451e+07</td>\n",
       "      <td>1967.231557</td>\n",
       "    </tr>\n",
       "  </tbody>\n",
       "</table>\n",
       "</div>"
      ],
      "text/plain": [
       "                                             Address   Latitude  Longitude  \\\n",
       "0  403 W Duke of Gloucester St (N Henry St), Will...  37.268093 -76.691090   \n",
       "1  403 W Duke of Gloucester St (N Henry St), Will...  37.271378 -76.691289   \n",
       "2  403 W Duke of Gloucester St (N Henry St), Will...  37.274664 -76.691488   \n",
       "3  403 W Duke of Gloucester St (N Henry St), Will...  37.277950 -76.691687   \n",
       "4  403 W Duke of Gloucester St (N Henry St), Will...  37.281237 -76.691886   \n",
       "\n",
       "              X             Y  Distance from center  \n",
       "0 -6.424049e+06  1.024451e+07           1967.231557  \n",
       "1 -6.423449e+06  1.024451e+07           1670.329309  \n",
       "2 -6.422849e+06  1.024451e+07           1558.845727  \n",
       "3 -6.422249e+06  1.024451e+07           1670.329309  \n",
       "4 -6.421649e+06  1.024451e+07           1967.231557  "
      ]
     },
     "execution_count": 20,
     "metadata": {},
     "output_type": "execute_result"
    }
   ],
   "source": [
    "df_locations = pd.DataFrame({'Address': addresses,\n",
    "                             'Latitude': latitudes,\n",
    "                             'Longitude': longitudes,\n",
    "                             'X': xs,\n",
    "                             'Y': ys,\n",
    "                             'Distance from center': distances_from_center})\n",
    "\n",
    "df_locations.head(5)"
   ]
  },
  {
   "cell_type": "code",
   "execution_count": 21,
   "metadata": {},
   "outputs": [],
   "source": [
    "def get_categories(categories):\n",
    "    return [(item['name'], item['id']) for item in categories]\n",
    "\n",
    "def format_address(location):\n",
    "    address = ', '.join(location['formattedAddress'])\n",
    "    address = address.replace(', Deutschland', '')\n",
    "    address = address.replace(', Germany', '')\n",
    "    return address\n",
    "\n",
    "\n",
    "def get_venues_near_location(lat, lon, category, client_id, client_secret, radius, limit):\n",
    "    version = '20200401'\n",
    "    url = 'https://api.foursquare.com/v2/venues/explore?client_id={}&client_secret={}&v={}&ll={},{}&categoryId={}&radius={}&limit={}'.format(\n",
    "        client_id, client_secret, version, lat, lon, category, radius, limit)\n",
    "    results = requests.get(url).json()['response']['groups'][0]['items']\n",
    "    #print(requests.get(url).json()['response'])\n",
    "    #print(results)\n",
    "    venuess = [(item['venue']['id'],\n",
    "               item['venue']['name'],\n",
    "               get_categories(item['venue']['categories']),\n",
    "               (item['venue']['location']['lat'], item['venue']['location']['lng']),\n",
    "               format_address(item['venue']['location']),\n",
    "               item['venue']['location']['distance']) for item in results]   \n",
    "    return venuess\n"
   ]
  },
  {
   "cell_type": "markdown",
   "metadata": {},
   "source": [
    "#### Create a function to check grab and load restaurants in the area"
   ]
  },
  {
   "cell_type": "code",
   "execution_count": 22,
   "metadata": {},
   "outputs": [
    {
     "name": "stdout",
     "output_type": "stream",
     "text": [
      "Obtaining venues around candidate locations: . . . . . . . . . . . . . . . . . . . . . . . . . . . . . . . . . . . . . . . . . . done.\n"
     ]
    }
   ],
   "source": [
    "def is_restaurant(categories):\n",
    "    restaurant_words = ['restaurant','food','steakhouse','pizza']\n",
    "    restaurant = False\n",
    "    for c in categories:\n",
    "        category_name = c[0].lower()\n",
    "        category_id = c[1]\n",
    "        for r in restaurant_words:\n",
    "            if r in category_name:\n",
    "                restaurant = True\n",
    "    return restaurant\n",
    "\n",
    "\n",
    "def get_restaurants(lats, lons):\n",
    "    restaurants = {}\n",
    "    location_restaurants = []\n",
    "\n",
    "    print('Obtaining venues around candidate locations:', end='')\n",
    "    for lat, lon in zip(lats, lons):\n",
    "        # Using radius=350 to meke sure we have overlaps/full coverage so we don't miss any restaurant (we're using dictionaries to remove any duplicates resulting from area overlaps)\n",
    "        venues = get_venues_near_location(lat, lon, food_category, CLIENT_ID, CLIENT_SECRET, radius, LIMIT)\n",
    "        area_restaurants = []\n",
    "        for venue in venues:\n",
    "            venue_id = venue[0]\n",
    "            venue_name = venue[1]\n",
    "            venue_categories = venue[2]\n",
    "            venue_latlon = venue[3]\n",
    "            venue_address = venue[4]\n",
    "            venue_distance = venue[5]\n",
    "            is_res = is_restaurant(venue_categories)\n",
    "            if is_res:\n",
    "                x, y = lonlat_to_xy(venue_latlon[1], venue_latlon[0])\n",
    "                restaurant = (venue_id, venue_name, venue_latlon[0], venue_latlon[1], venue_address, venue_distance, x, y)\n",
    "                if venue_distance<=300:\n",
    "                    area_restaurants.append(restaurant)\n",
    "                restaurants[venue_id] = restaurant\n",
    "        location_restaurants.append(area_restaurants)\n",
    "        print(' .', end='')\n",
    "    print(' done.')\n",
    "    return restaurants, location_restaurants\n",
    "\n",
    "# Try to load from local file system in case we did this before\n",
    "restaurants = {}\n",
    "location_restaurants = []\n",
    "loaded = False\n",
    "'''\n",
    "try:\n",
    "    with open('restaurants_350.pkl', 'rb') as f:\n",
    "        restaurants = pickle.load(f)\n",
    "    with open('location_restaurants_350.pkl', 'rb') as f:\n",
    "        location_restaurants = pickle.load(f)\n",
    "    print('Restaurant data loaded.')\n",
    "    loaded = True\n",
    "except:\n",
    "    pass\n",
    "'''\n",
    "# If load failed use the Foursquare API to get the data\n",
    "if not loaded:\n",
    "    restaurants, location_restaurants = get_restaurants(latitudes, longitudes)\n",
    "    \n",
    "    # Let's persists this in local file system\n",
    "    with open('restaurants_350.pkl', 'wb') as f:\n",
    "        pickle.dump(restaurants, f)\n",
    "    with open('location_restaurants_350.pkl', 'wb') as f:\n",
    "        pickle.dump(location_restaurants, f)"
   ]
  },
  {
   "cell_type": "code",
   "execution_count": 23,
   "metadata": {},
   "outputs": [
    {
     "name": "stdout",
     "output_type": "stream",
     "text": [
      "Total number of restaurants: 53\n",
      "Average number of restaurants in neighborhood: 0.8095238095238095\n"
     ]
    }
   ],
   "source": [
    "print('Total number of restaurants:', len(restaurants))\n",
    "print('Average number of restaurants in neighborhood:', np.array([len(r) for r in location_restaurants]).mean())"
   ]
  },
  {
   "cell_type": "code",
   "execution_count": 24,
   "metadata": {},
   "outputs": [
    {
     "name": "stdout",
     "output_type": "stream",
     "text": [
      "List of all restaurants\n",
      "-----------------------\n",
      "('4b22a52ef964a520f94a24e3', 'Second Street, An American Bistro', 37.27457674108086, -76.68710623649967, '140 Second St (Page St), Williamsburg, VA 23185, United States', 2405, -6422896.003620776, 10243877.507414116)\n",
      "('4b351c2bf964a5207e2a25e3', \"King's Arms Tavern\", 37.27143591439646, -76.69561146881775, '409 E Duke of Gloucester St, Williamsburg, VA 23185, United States', 1854, -6423408.2357190065, 10245143.42603718)\n",
      "('4bb4d752bc82a5938dec3e72', \"Chowning's Tavern\", 37.27139563256916, -76.69934524195013, '109 E Duke of Gloucester St, Williamsburg, VA 23185, United States', 1588, -6423389.164093698, 10245687.381857341)\n",
      "('4b450d2ff964a5208b0226e3', 'Blue Talon Bistro', 37.27208190581959, -76.70696101568169, '420 Prince George St (N Henry St), Williamsburg, VA 23185, United States', 1081, -6423210.097254905, 10246790.039706493)\n",
      "('4bb61cdd6edc76b02068301c', \"Shield's Tavern\", 37.27134212143677, -76.69480830430984, '422 E Duke of Gloucester St, Williamsburg, VA 23185, United States', 1920, -6423430.996069049, 10245027.32180007)\n",
      "('4baf8556f964a520c5063ce3', 'College Delly', 37.2737019868284, -76.71241067056607, '336 Richmond Rd (at Scotland St), Williamsburg, VA 23185, United States', 749, -6422876.155625107, 10247568.949446535)\n",
      "('4bbfa155920eb7133bad172c', \"Retro's Good Eats\", 37.27220015952754, -76.70717428743788, '435 Prince George St, Williamsburg, VA 23185, United States', 1060, -6423187.03814316, 10246820.035930198)\n",
      "('4d7d3e4bda568cfa971976ff', \"Rocco's Smokehouse & Grill\", 37.28527469709517, -76.71497288459095, '207 Bypass Rd, Williamsburg, VA 23185, United States', 563, -6420750.057128037, 10247838.495347207)\n",
      "('4b85727ff964a5208a5e31e3', 'Cracker Barrel Old Country Store', 37.2845357034117, -76.71668952658337, '200 Bypass Rd. I-64 & SR 143, Williamsburg, VA 23185, United States', 551, -6420872.37428855, 10248094.897409523)\n",
      "('4b806dd2f964a520817130e3', 'Food For Thought', 37.29440833788438, -76.72467944930797, '1647 Richmond Rd, Williamsburg, VA 23185, United States', 1858, -6419017.412232134, 10249168.838402089)\n",
      "...\n",
      "Total: 53\n"
     ]
    }
   ],
   "source": [
    "print('List of all restaurants')\n",
    "print('-----------------------')\n",
    "for r in list(restaurants.values())[:10]:\n",
    "    print(r)\n",
    "print('...')\n",
    "print('Total:', len(restaurants))"
   ]
  },
  {
   "cell_type": "markdown",
   "metadata": {},
   "source": [
    "#### Now add the number of restaurants in the neibourhoods. Here our radius is 5000m since the city is a small city. If the radius is too small, there will be too many 0s in the list of \"restaurants in area\""
   ]
  },
  {
   "cell_type": "code",
   "execution_count": 40,
   "metadata": {},
   "outputs": [
    {
     "name": "stdout",
     "output_type": "stream",
     "text": [
      "Average number of restaurants in every area with radius=5000m: 0.8095238095238095\n"
     ]
    },
    {
     "data": {
      "text/html": [
       "<div>\n",
       "<style scoped>\n",
       "    .dataframe tbody tr th:only-of-type {\n",
       "        vertical-align: middle;\n",
       "    }\n",
       "\n",
       "    .dataframe tbody tr th {\n",
       "        vertical-align: top;\n",
       "    }\n",
       "\n",
       "    .dataframe thead th {\n",
       "        text-align: right;\n",
       "    }\n",
       "</style>\n",
       "<table border=\"1\" class=\"dataframe\">\n",
       "  <thead>\n",
       "    <tr style=\"text-align: right;\">\n",
       "      <th></th>\n",
       "      <th>Address</th>\n",
       "      <th>Latitude</th>\n",
       "      <th>Longitude</th>\n",
       "      <th>X</th>\n",
       "      <th>Y</th>\n",
       "      <th>Distance from center</th>\n",
       "      <th>Restaurants in area</th>\n",
       "    </tr>\n",
       "  </thead>\n",
       "  <tbody>\n",
       "    <tr>\n",
       "      <td>0</td>\n",
       "      <td>403 W Duke of Gloucester St (N Henry St), Will...</td>\n",
       "      <td>37.268093</td>\n",
       "      <td>-76.691090</td>\n",
       "      <td>-6.424049e+06</td>\n",
       "      <td>1.024451e+07</td>\n",
       "      <td>1967.231557</td>\n",
       "      <td>0</td>\n",
       "    </tr>\n",
       "    <tr>\n",
       "      <td>1</td>\n",
       "      <td>403 W Duke of Gloucester St (N Henry St), Will...</td>\n",
       "      <td>37.271378</td>\n",
       "      <td>-76.691289</td>\n",
       "      <td>-6.423449e+06</td>\n",
       "      <td>1.024451e+07</td>\n",
       "      <td>1670.329309</td>\n",
       "      <td>1</td>\n",
       "    </tr>\n",
       "    <tr>\n",
       "      <td>2</td>\n",
       "      <td>403 W Duke of Gloucester St (N Henry St), Will...</td>\n",
       "      <td>37.274664</td>\n",
       "      <td>-76.691488</td>\n",
       "      <td>-6.422849e+06</td>\n",
       "      <td>1.024451e+07</td>\n",
       "      <td>1558.845727</td>\n",
       "      <td>0</td>\n",
       "    </tr>\n",
       "    <tr>\n",
       "      <td>3</td>\n",
       "      <td>403 W Duke of Gloucester St (N Henry St), Will...</td>\n",
       "      <td>37.277950</td>\n",
       "      <td>-76.691687</td>\n",
       "      <td>-6.422249e+06</td>\n",
       "      <td>1.024451e+07</td>\n",
       "      <td>1670.329309</td>\n",
       "      <td>1</td>\n",
       "    </tr>\n",
       "    <tr>\n",
       "      <td>4</td>\n",
       "      <td>403 W Duke of Gloucester St (N Henry St), Will...</td>\n",
       "      <td>37.281237</td>\n",
       "      <td>-76.691886</td>\n",
       "      <td>-6.421649e+06</td>\n",
       "      <td>1.024451e+07</td>\n",
       "      <td>1967.231557</td>\n",
       "      <td>1</td>\n",
       "    </tr>\n",
       "    <tr>\n",
       "      <td>5</td>\n",
       "      <td>403 W Duke of Gloucester St (N Henry St), Will...</td>\n",
       "      <td>37.266312</td>\n",
       "      <td>-76.694550</td>\n",
       "      <td>-6.424349e+06</td>\n",
       "      <td>1.024503e+07</td>\n",
       "      <td>1824.828759</td>\n",
       "      <td>0</td>\n",
       "    </tr>\n",
       "    <tr>\n",
       "      <td>6</td>\n",
       "      <td>403 W Duke of Gloucester St (N Henry St), Will...</td>\n",
       "      <td>37.269598</td>\n",
       "      <td>-76.694750</td>\n",
       "      <td>-6.423749e+06</td>\n",
       "      <td>1.024503e+07</td>\n",
       "      <td>1374.772708</td>\n",
       "      <td>5</td>\n",
       "    </tr>\n",
       "    <tr>\n",
       "      <td>7</td>\n",
       "      <td>403 W Duke of Gloucester St (N Henry St), Will...</td>\n",
       "      <td>37.272883</td>\n",
       "      <td>-76.694949</td>\n",
       "      <td>-6.423149e+06</td>\n",
       "      <td>1.024503e+07</td>\n",
       "      <td>1081.665383</td>\n",
       "      <td>2</td>\n",
       "    </tr>\n",
       "    <tr>\n",
       "      <td>8</td>\n",
       "      <td>403 W Duke of Gloucester St (N Henry St), Will...</td>\n",
       "      <td>37.276169</td>\n",
       "      <td>-76.695149</td>\n",
       "      <td>-6.422549e+06</td>\n",
       "      <td>1.024503e+07</td>\n",
       "      <td>1081.665383</td>\n",
       "      <td>0</td>\n",
       "    </tr>\n",
       "    <tr>\n",
       "      <td>9</td>\n",
       "      <td>403 W Duke of Gloucester St (N Henry St), Will...</td>\n",
       "      <td>37.279456</td>\n",
       "      <td>-76.695348</td>\n",
       "      <td>-6.421949e+06</td>\n",
       "      <td>1.024503e+07</td>\n",
       "      <td>1374.772708</td>\n",
       "      <td>0</td>\n",
       "    </tr>\n",
       "  </tbody>\n",
       "</table>\n",
       "</div>"
      ],
      "text/plain": [
       "                                             Address   Latitude  Longitude  \\\n",
       "0  403 W Duke of Gloucester St (N Henry St), Will...  37.268093 -76.691090   \n",
       "1  403 W Duke of Gloucester St (N Henry St), Will...  37.271378 -76.691289   \n",
       "2  403 W Duke of Gloucester St (N Henry St), Will...  37.274664 -76.691488   \n",
       "3  403 W Duke of Gloucester St (N Henry St), Will...  37.277950 -76.691687   \n",
       "4  403 W Duke of Gloucester St (N Henry St), Will...  37.281237 -76.691886   \n",
       "5  403 W Duke of Gloucester St (N Henry St), Will...  37.266312 -76.694550   \n",
       "6  403 W Duke of Gloucester St (N Henry St), Will...  37.269598 -76.694750   \n",
       "7  403 W Duke of Gloucester St (N Henry St), Will...  37.272883 -76.694949   \n",
       "8  403 W Duke of Gloucester St (N Henry St), Will...  37.276169 -76.695149   \n",
       "9  403 W Duke of Gloucester St (N Henry St), Will...  37.279456 -76.695348   \n",
       "\n",
       "              X             Y  Distance from center  Restaurants in area  \n",
       "0 -6.424049e+06  1.024451e+07           1967.231557                    0  \n",
       "1 -6.423449e+06  1.024451e+07           1670.329309                    1  \n",
       "2 -6.422849e+06  1.024451e+07           1558.845727                    0  \n",
       "3 -6.422249e+06  1.024451e+07           1670.329309                    1  \n",
       "4 -6.421649e+06  1.024451e+07           1967.231557                    1  \n",
       "5 -6.424349e+06  1.024503e+07           1824.828759                    0  \n",
       "6 -6.423749e+06  1.024503e+07           1374.772708                    5  \n",
       "7 -6.423149e+06  1.024503e+07           1081.665383                    2  \n",
       "8 -6.422549e+06  1.024503e+07           1081.665383                    0  \n",
       "9 -6.421949e+06  1.024503e+07           1374.772708                    0  "
      ]
     },
     "execution_count": 40,
     "metadata": {},
     "output_type": "execute_result"
    }
   ],
   "source": [
    "location_restaurants_count = [len(res) for res in location_restaurants]\n",
    "\n",
    "df_locations['Restaurants in area'] = location_restaurants_count\n",
    "\n",
    "print('Average number of restaurants in every area with radius=5000m:', np.array(location_restaurants_count).mean())\n",
    "\n",
    "df_locations.head(10)"
   ]
  },
  {
   "cell_type": "markdown",
   "metadata": {},
   "source": [
    "#### With the neighborhoods  that have more than 0 restaurants (meaning there are people come and go around the area) and fewer than 2 (we don't want too many competitors  since we are new here)."
   ]
  },
  {
   "cell_type": "code",
   "execution_count": 27,
   "metadata": {},
   "outputs": [
    {
     "name": "stdout",
     "output_type": "stream",
     "text": [
      "Locations with no more than two restaurants nearby: 38\n",
      "Locations with no more than two restaurants nearby: 14\n",
      "Locations with both conditions met: 10\n"
     ]
    }
   ],
   "source": [
    "good_res_count1 = np.array((df_locations['Restaurants in area'] <= 2))\n",
    "print('Locations with no more than two restaurants nearby:', good_res_count1.sum())\n",
    "\n",
    "good_res_count2 = np.array((df_locations['Restaurants in area'] > 0))\n",
    "print('Locations with no more than two restaurants nearby:', good_res_count2.sum())\n",
    "\n",
    "good_locations = np.logical_and(good_res_count1, good_res_count2)\n",
    "print('Locations with both conditions met:', good_locations.sum())\n",
    "\n",
    "df_good_locations = df_locations[good_locations]"
   ]
  },
  {
   "cell_type": "code",
   "execution_count": 28,
   "metadata": {},
   "outputs": [],
   "source": [
    "number_of_clusters = 5\n",
    "\n",
    "good_xys = df_good_locations[['X', 'Y']].values\n",
    "kmeans = KMeans(n_clusters=number_of_clusters, random_state=0).fit(good_xys)\n",
    "\n",
    "cluster_centers = [xy_to_lonlat(cc[0], cc[1]) for cc in kmeans.cluster_centers_]"
   ]
  },
  {
   "cell_type": "code",
   "execution_count": 38,
   "metadata": {},
   "outputs": [
    {
     "name": "stdout",
     "output_type": "stream",
     "text": [
      "--------------------------------------------------------------\n",
      "Best place recommended for opening a Chinese Hotpot Restaurant\n",
      "--------------------------------------------------------------\n",
      "\n",
      "403 W Duke of Gloucester St (N Henry St), Williamsburg, VA 23185, United States => 1.3km from Governor's Palace\n"
     ]
    }
   ],
   "source": [
    "candidate_area_addresses = []\n",
    "print('--------------------------------------------------------------')\n",
    "print('Best place recommended for opening a Chinese Hotpot Restaurant')\n",
    "print('--------------------------------------------------------------\\n')\n",
    "for lon, lat in cluster_centers:\n",
    "    addr = get_address(lat, lon)\n",
    "    candidate_area_addresses.append(addr)    \n",
    "    x, y = lonlat_to_xy(lon, lat)\n",
    "    d = calc_xy_distance(x, y, center_x, center_y)\n",
    "print(\"{}{} => {:.1f}km from Governor's Palace\".format(addr, ' '*(50-len(addr)), d/1000))"
   ]
  },
  {
   "cell_type": "code",
   "execution_count": 42,
   "metadata": {},
   "outputs": [
    {
     "data": {
      "text/html": [
       "<div style=\"width:100%;\"><div style=\"position:relative;width:100%;height:0;padding-bottom:60%;\"><iframe src=\"about:blank\" style=\"position:absolute;width:100%;height:100%;left:0;top:0;border:none !important;\" data-html=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 onload=\"this.contentDocument.open();this.contentDocument.write(atob(this.getAttribute('data-html')));this.contentDocument.close();\" allowfullscreen webkitallowfullscreen mozallowfullscreen></iframe></div></div>"
      ],
      "text/plain": [
       "<folium.folium.Map at 0x2246e357d48>"
      ]
     },
     "execution_count": 42,
     "metadata": {},
     "output_type": "execute_result"
    }
   ],
   "source": [
    "map_ = folium.Map(location=williamsburg_center, zoom_start=14)\n",
    "folium.Circle(williamsburg_center, radius=25, color='red', fill=True, fill_color='red', fill_opacity=1).add_to(map_)\n",
    "for lonlat, addr in zip(cluster_centers, candidate_area_addresses):\n",
    "    folium.Marker([lonlat[1], lonlat[0]], popup=addr).add_to(map_) \n",
    "for lat, lon in zip(latitudes, longitudes):\n",
    "    folium.Circle([lat, lon], radius=250, color='#0000ff00', fill=True, fill_color='#0066ff', fill_opacity=0.05).add_to(map_)\n",
    "map_"
   ]
  }
 ],
 "metadata": {
  "kernelspec": {
   "display_name": "Python 3",
   "language": "python",
   "name": "python3"
  },
  "language_info": {
   "codemirror_mode": {
    "name": "ipython",
    "version": 3
   },
   "file_extension": ".py",
   "mimetype": "text/x-python",
   "name": "python",
   "nbconvert_exporter": "python",
   "pygments_lexer": "ipython3",
   "version": "3.7.4"
  }
 },
 "nbformat": 4,
 "nbformat_minor": 2
}
